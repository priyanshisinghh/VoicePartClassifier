{
 "cells": [
  {
   "cell_type": "markdown",
   "id": "7c122066-46cd-43f1-9076-fd7bf987f992",
   "metadata": {},
   "source": [
    "# Introduction"
   ]
  },
  {
   "cell_type": "markdown",
   "id": "45a4f5ad-4784-4106-9ee3-425e8d41730a",
   "metadata": {},
   "source": [
    "Hello! This is a personal project I have been working on for a few weeks now aimed to help me get more comfortable with conducting data analysis and get familiar with machine learning concepts using Python! This is a small personal project I have been working on for that very purpose in which I took sample data from an acapella club I am in and aim to use certain characteristics such as voice nasality, airiness, and someone's range into consideration to classify them into 5 different voice parts/classes:\n",
    "\n",
    "* **Sopranos:** These singers typically sing higher notes, and are typically females\n",
    "* **Altos:** These singers typically sing high-mid notes, and are also typically females.\n",
    "* **Tenors:** These singers also typically sing middle notes, and are typically males, but may be female voices as well\n",
    "* **Baritone:** These singers sing the middle to lower notes, and consist of male voices\n",
    "* **Basses:** These singers sing the lowest notes, and consist of male voices\n",
    "\n",
    "I took a randomly selected sample of some auditonee data that we have collected in the past, removed any key information about them (names, ages, emails, etc.) and generated a dataset that has been feature engineered to classify voice parts! \n",
    "\n",
    "##### Feature Engineering Portion:\n",
    "To make this task easier, I had to feature engineer the auditionees range data. I did this by taking the auditionee's lowest note they could sing, and converted it into a MIDI note number as translated and shown in this article: https://newt.phys.unsw.edu.au/jw/notes.html\n",
    "![MIDINoteClassificationConversion.png](MIDINoteClassificationConversion.png)\n",
    "I did the same process for the auditionee's highest range note. This allowed the categorical data to be converted into numeric data to be easier to use during the classification process. \n",
    "\n",
    "I also included some other general info that we look for in the auditionee's tonal voice such as the nasality or airiness of their notes, in both their upper and lower ranges.\n",
    "\n",
    "More information about how the individual variables are in the EDA section. "
   ]
  },
  {
   "cell_type": "markdown",
   "id": "86ed645f-4c53-4157-a4a6-ef0c38151443",
   "metadata": {},
   "source": [
    "# EDA"
   ]
  },
  {
   "cell_type": "code",
   "execution_count": 110,
   "id": "d0c7aa57-e7c2-4eb8-aa35-899941f28dfa",
   "metadata": {},
   "outputs": [
    {
     "data": {
      "text/html": [
       "<div>\n",
       "<style scoped>\n",
       "    .dataframe tbody tr th:only-of-type {\n",
       "        vertical-align: middle;\n",
       "    }\n",
       "\n",
       "    .dataframe tbody tr th {\n",
       "        vertical-align: top;\n",
       "    }\n",
       "\n",
       "    .dataframe thead th {\n",
       "        text-align: right;\n",
       "    }\n",
       "</style>\n",
       "<table border=\"1\" class=\"dataframe\">\n",
       "  <thead>\n",
       "    <tr style=\"text-align: right;\">\n",
       "      <th></th>\n",
       "      <th>label</th>\n",
       "      <th>low_note</th>\n",
       "      <th>low_midi</th>\n",
       "      <th>high_note</th>\n",
       "      <th>high_midi</th>\n",
       "      <th>semitones</th>\n",
       "      <th>nasal_low</th>\n",
       "      <th>nasal_high</th>\n",
       "      <th>airy_low</th>\n",
       "      <th>airy_high</th>\n",
       "      <th>voice</th>\n",
       "    </tr>\n",
       "  </thead>\n",
       "  <tbody>\n",
       "    <tr>\n",
       "      <th>0</th>\n",
       "      <td>C#4-B5</td>\n",
       "      <td>C#4</td>\n",
       "      <td>61</td>\n",
       "      <td>B5</td>\n",
       "      <td>83</td>\n",
       "      <td>22</td>\n",
       "      <td>3</td>\n",
       "      <td>3</td>\n",
       "      <td>0</td>\n",
       "      <td>0</td>\n",
       "      <td>soprano</td>\n",
       "    </tr>\n",
       "    <tr>\n",
       "      <th>1</th>\n",
       "      <td>E4-E6</td>\n",
       "      <td>E4</td>\n",
       "      <td>64</td>\n",
       "      <td>E6</td>\n",
       "      <td>88</td>\n",
       "      <td>24</td>\n",
       "      <td>2</td>\n",
       "      <td>2</td>\n",
       "      <td>3</td>\n",
       "      <td>2</td>\n",
       "      <td>soprano</td>\n",
       "    </tr>\n",
       "    <tr>\n",
       "      <th>2</th>\n",
       "      <td>C4-D#6</td>\n",
       "      <td>C4</td>\n",
       "      <td>60</td>\n",
       "      <td>D#6</td>\n",
       "      <td>87</td>\n",
       "      <td>27</td>\n",
       "      <td>1</td>\n",
       "      <td>2</td>\n",
       "      <td>3</td>\n",
       "      <td>1</td>\n",
       "      <td>soprano</td>\n",
       "    </tr>\n",
       "    <tr>\n",
       "      <th>3</th>\n",
       "      <td>D4-C6</td>\n",
       "      <td>D4</td>\n",
       "      <td>62</td>\n",
       "      <td>C6</td>\n",
       "      <td>84</td>\n",
       "      <td>22</td>\n",
       "      <td>1</td>\n",
       "      <td>3</td>\n",
       "      <td>0</td>\n",
       "      <td>2</td>\n",
       "      <td>soprano</td>\n",
       "    </tr>\n",
       "    <tr>\n",
       "      <th>4</th>\n",
       "      <td>D#4-A5</td>\n",
       "      <td>D#4</td>\n",
       "      <td>63</td>\n",
       "      <td>A5</td>\n",
       "      <td>81</td>\n",
       "      <td>18</td>\n",
       "      <td>3</td>\n",
       "      <td>3</td>\n",
       "      <td>3</td>\n",
       "      <td>0</td>\n",
       "      <td>soprano</td>\n",
       "    </tr>\n",
       "    <tr>\n",
       "      <th>...</th>\n",
       "      <td>...</td>\n",
       "      <td>...</td>\n",
       "      <td>...</td>\n",
       "      <td>...</td>\n",
       "      <td>...</td>\n",
       "      <td>...</td>\n",
       "      <td>...</td>\n",
       "      <td>...</td>\n",
       "      <td>...</td>\n",
       "      <td>...</td>\n",
       "      <td>...</td>\n",
       "    </tr>\n",
       "    <tr>\n",
       "      <th>73</th>\n",
       "      <td>A#2-D4</td>\n",
       "      <td>A#2</td>\n",
       "      <td>46</td>\n",
       "      <td>D4</td>\n",
       "      <td>62</td>\n",
       "      <td>16</td>\n",
       "      <td>2</td>\n",
       "      <td>0</td>\n",
       "      <td>0</td>\n",
       "      <td>0</td>\n",
       "      <td>baritone</td>\n",
       "    </tr>\n",
       "    <tr>\n",
       "      <th>74</th>\n",
       "      <td>G2-C#4</td>\n",
       "      <td>G2</td>\n",
       "      <td>43</td>\n",
       "      <td>C#4</td>\n",
       "      <td>61</td>\n",
       "      <td>18</td>\n",
       "      <td>1</td>\n",
       "      <td>3</td>\n",
       "      <td>3</td>\n",
       "      <td>1</td>\n",
       "      <td>bass</td>\n",
       "    </tr>\n",
       "    <tr>\n",
       "      <th>75</th>\n",
       "      <td>D2-C4</td>\n",
       "      <td>D2</td>\n",
       "      <td>38</td>\n",
       "      <td>C4</td>\n",
       "      <td>60</td>\n",
       "      <td>22</td>\n",
       "      <td>3</td>\n",
       "      <td>1</td>\n",
       "      <td>1</td>\n",
       "      <td>1</td>\n",
       "      <td>bass</td>\n",
       "    </tr>\n",
       "    <tr>\n",
       "      <th>76</th>\n",
       "      <td>D2-D4</td>\n",
       "      <td>D2</td>\n",
       "      <td>38</td>\n",
       "      <td>D4</td>\n",
       "      <td>62</td>\n",
       "      <td>24</td>\n",
       "      <td>2</td>\n",
       "      <td>3</td>\n",
       "      <td>2</td>\n",
       "      <td>3</td>\n",
       "      <td>bass</td>\n",
       "    </tr>\n",
       "    <tr>\n",
       "      <th>77</th>\n",
       "      <td>F#2-A3</td>\n",
       "      <td>F#2</td>\n",
       "      <td>42</td>\n",
       "      <td>A3</td>\n",
       "      <td>57</td>\n",
       "      <td>15</td>\n",
       "      <td>3</td>\n",
       "      <td>3</td>\n",
       "      <td>0</td>\n",
       "      <td>0</td>\n",
       "      <td>bass</td>\n",
       "    </tr>\n",
       "  </tbody>\n",
       "</table>\n",
       "<p>78 rows × 11 columns</p>\n",
       "</div>"
      ],
      "text/plain": [
       "     label low_note  low_midi high_note  high_midi  semitones  nasal_low  \\\n",
       "0   C#4-B5      C#4        61        B5         83         22          3   \n",
       "1    E4-E6       E4        64        E6         88         24          2   \n",
       "2   C4-D#6       C4        60       D#6         87         27          1   \n",
       "3    D4-C6       D4        62        C6         84         22          1   \n",
       "4   D#4-A5      D#4        63        A5         81         18          3   \n",
       "..     ...      ...       ...       ...        ...        ...        ...   \n",
       "73  A#2-D4      A#2        46        D4         62         16          2   \n",
       "74  G2-C#4       G2        43       C#4         61         18          1   \n",
       "75   D2-C4       D2        38        C4         60         22          3   \n",
       "76   D2-D4       D2        38        D4         62         24          2   \n",
       "77  F#2-A3      F#2        42        A3         57         15          3   \n",
       "\n",
       "    nasal_high  airy_low  airy_high     voice  \n",
       "0            3         0          0   soprano  \n",
       "1            2         3          2   soprano  \n",
       "2            2         3          1   soprano  \n",
       "3            3         0          2   soprano  \n",
       "4            3         3          0   soprano  \n",
       "..         ...       ...        ...       ...  \n",
       "73           0         0          0  baritone  \n",
       "74           3         3          1      bass  \n",
       "75           1         1          1      bass  \n",
       "76           3         2          3      bass  \n",
       "77           3         0          0      bass  \n",
       "\n",
       "[78 rows x 11 columns]"
      ]
     },
     "execution_count": 110,
     "metadata": {},
     "output_type": "execute_result"
    }
   ],
   "source": [
    "import pandas as pd\n",
    "import numpy as np\n",
    "import matplotlib.pyplot as plt\n",
    "\n",
    "# Load your data\n",
    "df = pd.read_csv('voiceData.csv')\n",
    "df"
   ]
  },
  {
   "cell_type": "code",
   "execution_count": 112,
   "id": "f80e2819-d459-43b4-9108-e9f69d4eea45",
   "metadata": {},
   "outputs": [
    {
     "name": "stdout",
     "output_type": "stream",
     "text": [
      "<class 'pandas.core.frame.DataFrame'>\n",
      "RangeIndex: 78 entries, 0 to 77\n",
      "Data columns (total 11 columns):\n",
      " #   Column      Non-Null Count  Dtype \n",
      "---  ------      --------------  ----- \n",
      " 0   label       78 non-null     object\n",
      " 1   low_note    78 non-null     object\n",
      " 2   low_midi    78 non-null     int64 \n",
      " 3   high_note   78 non-null     object\n",
      " 4   high_midi   78 non-null     int64 \n",
      " 5   semitones   78 non-null     int64 \n",
      " 6   nasal_low   78 non-null     int64 \n",
      " 7   nasal_high  78 non-null     int64 \n",
      " 8   airy_low    78 non-null     int64 \n",
      " 9   airy_high   78 non-null     int64 \n",
      " 10  voice       78 non-null     object\n",
      "dtypes: int64(7), object(4)\n",
      "memory usage: 6.8+ KB\n"
     ]
    }
   ],
   "source": [
    "#checking for any missing values + data types\n",
    "df.info()"
   ]
  },
  {
   "cell_type": "code",
   "execution_count": 114,
   "id": "901889b6-5667-43dc-a754-1625583962f0",
   "metadata": {},
   "outputs": [
    {
     "data": {
      "text/plain": [
       "voice\n",
       "alto        28\n",
       "soprano     26\n",
       "tenor       10\n",
       "baritone    10\n",
       "bass         4\n",
       "Name: count, dtype: int64"
      ]
     },
     "execution_count": 114,
     "metadata": {},
     "output_type": "execute_result"
    }
   ],
   "source": [
    "#checking how many of each class there are in this dataset\n",
    "df['voice'].value_counts()"
   ]
  },
  {
   "cell_type": "markdown",
   "id": "07f6a667-8ef9-47ab-8a66-0c6cc00c9d07",
   "metadata": {},
   "source": [
    "### Variables & Basic Dataset Information:\n",
    "\n",
    "* 78 rows = 78 auditionee data points\n",
    "* 7 (int64) variables with 1 (object) classification variable\n",
    "* No missing values -> this is because I purposefully curated this dataset as a sample from our records as a group, but normally if there are missing values there are several techniques you can use to deal with them.\n",
    "  * People typically remove the NA rows\n",
    "  * You can also input the average of the dataset into that value so you dont have to remove the row of data -> useful in smaller datasets\n",
    "  * I think since this dataset is small as is, and that there are 5 classification categories, I would remove the row since adding the \"average\" value amongst 5 classifications can skew the model significantly. However, this depends on the classification class (for the smaller classes, I may choose to input the average of that class value)\n",
    "* We can also see how many of each class/voice parts there are - there are very few tenors, baritones, and basses comparatively\n",
    "\n",
    "##### **Variables:**\n",
    "* **label:** This is the auditionee's raw range data as taken from the data I sampled from. This information was then seperated into the **low_note** and **high_note** data points, and then encoded into the **low_midi** and **high_midi** variables.\n",
    "* **low_note:** This variable is the raw data representing the lowest note the auditionee can sing. This variable is then converted to the **low_midi** variable using the MIDI Note Number Scale as shown in the introduction.\n",
    "* **low_midi:** This is a feature engineered variable. As mentioned above in the introduction, I took the auditionee's lowest note in their range, as shown by the **low_note** variable, used the MIDI Note Number Scale as shown in the image above, and converted it into a numeric value.\n",
    "* **high_note:** This variable is the raw data representing the highesr note the auditionee can sing. This variable is then converted to the **high_midi** variable using the MIDI Note Number Scale as shown in the introduction.\n",
    "* **low_midi:** This is a feature engineered variable. Similar to the low_midi variable, I took the auditionee's highest note from their range as shown by the **high_note** variable, used the MIDI Note Number Scale as shown in the image above, and converted it into a numeric value.\n",
    "* **semitones:** This is the amount of notes/\"half-steps\" between the auditionee's highest and lowest note of their range\n",
    "* **nasal_low:** This is how nasal the auditionee sounded in the lower part of their range. Singers typically want a lower level of nasality. This variable is seen on a scale of 0-3 in which 0 suggests the singer is not nasal at all, while 3 suggests that the singer has a very nasally tone. \n",
    "* **nasal_high:** Similar to the **nasal_low** variable, this is how nasal the auditionee sounded in their higher range. Again, typically a lower nasality is preferred. This variable is seen on a scale of 0-3 in which 0 suggests the singer is not nasal at all, while 3 suggests that the singer has a very nasally tone. \n",
    "* **airy_low:** This variable represents how airy the auditionee's tone is on the lower notes on a scale of 0-3 where a 0 suggests that the singer was not airy at all and a 3 suggests that the auditionee had a very airy tone\n",
    "* **airy_high:** This variable represents how airy the auditionee's tone is on the higher notes on a scale of 0-3 where a 0 suggests that the singer was not airy at all and a 3 suggests that the auditionee had a very airy tone\n",
    "* **voice:** This variable represents the 5 voice parts a singer can be put into and is part of the 5 classes of classification we will be using: sopranos, altos, tenors, baritones, and basses (more information about these classes/voice parts in the introduction)\n"
   ]
  },
  {
   "cell_type": "markdown",
   "id": "5739b6ce-ea75-457f-8deb-97d3862186fb",
   "metadata": {},
   "source": [
    "### Comparing mean low_midi and high_midi by class/voice part"
   ]
  },
  {
   "cell_type": "code",
   "execution_count": 118,
   "id": "643df7f9-e3eb-4049-8698-2987cfddd8d4",
   "metadata": {},
   "outputs": [
    {
     "data": {
      "text/html": [
       "<div>\n",
       "<style scoped>\n",
       "    .dataframe tbody tr th:only-of-type {\n",
       "        vertical-align: middle;\n",
       "    }\n",
       "\n",
       "    .dataframe tbody tr th {\n",
       "        vertical-align: top;\n",
       "    }\n",
       "\n",
       "    .dataframe thead th {\n",
       "        text-align: right;\n",
       "    }\n",
       "</style>\n",
       "<table border=\"1\" class=\"dataframe\">\n",
       "  <thead>\n",
       "    <tr style=\"text-align: right;\">\n",
       "      <th></th>\n",
       "      <th>low_midi</th>\n",
       "      <th>high_midi</th>\n",
       "    </tr>\n",
       "    <tr>\n",
       "      <th>voice</th>\n",
       "      <th></th>\n",
       "      <th></th>\n",
       "    </tr>\n",
       "  </thead>\n",
       "  <tbody>\n",
       "    <tr>\n",
       "      <th>alto</th>\n",
       "      <td>57.571429</td>\n",
       "      <td>74.250000</td>\n",
       "    </tr>\n",
       "    <tr>\n",
       "      <th>baritone</th>\n",
       "      <td>46.800000</td>\n",
       "      <td>65.600000</td>\n",
       "    </tr>\n",
       "    <tr>\n",
       "      <th>bass</th>\n",
       "      <td>40.250000</td>\n",
       "      <td>60.000000</td>\n",
       "    </tr>\n",
       "    <tr>\n",
       "      <th>soprano</th>\n",
       "      <td>62.076923</td>\n",
       "      <td>83.615385</td>\n",
       "    </tr>\n",
       "    <tr>\n",
       "      <th>tenor</th>\n",
       "      <td>50.900000</td>\n",
       "      <td>69.200000</td>\n",
       "    </tr>\n",
       "  </tbody>\n",
       "</table>\n",
       "</div>"
      ],
      "text/plain": [
       "           low_midi  high_midi\n",
       "voice                         \n",
       "alto      57.571429  74.250000\n",
       "baritone  46.800000  65.600000\n",
       "bass      40.250000  60.000000\n",
       "soprano   62.076923  83.615385\n",
       "tenor     50.900000  69.200000"
      ]
     },
     "execution_count": 118,
     "metadata": {},
     "output_type": "execute_result"
    }
   ],
   "source": [
    "df.groupby(\"voice\")[[\"low_midi\", \"high_midi\"]].mean()\n",
    "#df.groupby('voice')[['low_midi', 'high_midi']].agg(['min', 'max'])"
   ]
  },
  {
   "cell_type": "markdown",
   "id": "ebc1a902-b370-4b81-a522-6a656ff2d997",
   "metadata": {},
   "source": [
    "This information makes sense as we would expect **high_midi**, the average high numeric values (representing the average highest note) and **low_midi**, the lowest numeric values (representing the average lowest note) to go from largest to smallest in the order of highest to lowest pitch: soprano, alto, tenor, baritone, & bass - which it does!\n"
   ]
  },
  {
   "cell_type": "markdown",
   "id": "d0a93a11-ccad-49f0-a6fa-3c5fe2527c10",
   "metadata": {},
   "source": [
    "### Visualizing the range of different classes/voice parts"
   ]
  },
  {
   "cell_type": "code",
   "execution_count": 137,
   "id": "60d3f553-ba61-413d-9b27-2f26e8a71752",
   "metadata": {},
   "outputs": [
    {
     "data": {
      "image/png": "[encoded data removed]",
      "text/plain": [
       "<Figure size 640x480 with 1 Axes>"
      ]
     },
     "metadata": {},
     "output_type": "display_data"
    }
   ],
   "source": [
    "#scatterplot that shows each voice part vs. high & low midi note ranges\n",
    "#we want clear clustering of voice parts\n",
    "\n",
    "voice_parts = df['voice'].unique()\n",
    "colors_map = {'soprano': 'pink', 'alto': 'purple', 'tenor': 'blue', \n",
    "              'baritone': 'green', 'bass': 'orange'}\n",
    "\n",
    "for voice in voice_parts:\n",
    "    voice_data = df[df['voice'] == voice]\n",
    "    plt.scatter(voice_data['low_midi'], voice_data['high_midi'], label=voice)\n",
    "\n",
    "plt.xlabel('Lowest Note (MIDI)', fontsize=10)\n",
    "plt.ylabel('Highest Note (MIDI)', fontsize=10)\n",
    "plt.title('Vocal Range by Voice Part')\n",
    "plt.legend(title='Voice Part')\n",
    "plt.show()"
   ]
  },
  {
   "cell_type": "markdown",
   "id": "fc0ee49a-e5d2-4481-807d-c8f61e7ff221",
   "metadata": {},
   "source": [
    "In this plot, we can see that there are clear clusters between the **low_midi** and **high_midi** points for each voice in each voice class. \n",
    "* There is some overlap between the tenor and baritone classes, might be some confusion in the model in the future\n",
    "* Most points have a clear cluster which means the model generally should not struggle!\n",
    "* This means that the **low_midi** and **high_midi** variables are strong indicators of the voice classification variable"
   ]
  },
  {
   "cell_type": "markdown",
   "id": "054eb8d5-fba0-4b97-8859-c5fcc3f07616",
   "metadata": {},
   "source": [
    "### Correlation matrix between the different features"
   ]
  },
  {
   "cell_type": "code",
   "execution_count": 185,
   "id": "0e9728ab-958e-42ee-a114-a8212368de0f",
   "metadata": {},
   "outputs": [
    {
     "name": "stdout",
     "output_type": "stream",
     "text": [
      "            low_midi  high_midi  semitones  nasal_low  nasal_high  airy_low  \\\n",
      "low_midi    1.000000   0.868601   0.061190  -0.178644    0.035284  0.062611   \n",
      "high_midi   0.868601   1.000000   0.547733  -0.130732    0.012612  0.083633   \n",
      "semitones   0.061190   0.547733   1.000000   0.038296   -0.034171  0.062748   \n",
      "nasal_low  -0.178644  -0.130732   0.038296   1.000000    0.114363  0.082286   \n",
      "nasal_high  0.035284   0.012612  -0.034171   0.114363    1.000000 -0.027143   \n",
      "airy_low    0.062611   0.083633   0.062748   0.082286   -0.027143  1.000000   \n",
      "airy_high  -0.201838  -0.116821   0.105478  -0.180433    0.010529  0.119475   \n",
      "\n",
      "            airy_high  \n",
      "low_midi    -0.201838  \n",
      "high_midi   -0.116821  \n",
      "semitones    0.105478  \n",
      "nasal_low   -0.180433  \n",
      "nasal_high   0.010529  \n",
      "airy_low     0.119475  \n",
      "airy_high    1.000000  \n"
     ]
    },
    {
     "data": {
      "image/png": "[encoded data removed]",
      "text/plain": [
       "<Figure size 640x480 with 2 Axes>"
      ]
     },
     "metadata": {},
     "output_type": "display_data"
    }
   ],
   "source": [
    "# Correlation between numeric features\n",
    "\n",
    "numeric_features = ['low_midi', 'high_midi', 'semitones', \n",
    "                   'nasal_low', 'nasal_high', 'airy_low', 'airy_high']\n",
    "\n",
    "#getting corr matrix values\n",
    "correlation_matrix = df[numeric_features].corr()\n",
    "print(correlation_matrix)\n",
    "\n",
    "#heatmap visuals\n",
    "fig, ax = plt.subplots()\n",
    "im = ax.imshow(correlation_matrix, cmap='coolwarm', vmin=-1, vmax=1)\n",
    "\n",
    "ax.set_xticks(np.arange(len(numeric_features)))\n",
    "ax.set_yticks(np.arange(len(numeric_features)))\n",
    "ax.set_xticklabels(numeric_features, rotation=45, ha='right')\n",
    "ax.set_yticklabels(numeric_features)\n",
    "\n",
    "plt.colorbar(im, ax=ax, label='Correlation')\n",
    "ax.set_title('Feature Correlation Matrix')\n",
    "plt.show()\n"
   ]
  },
  {
   "cell_type": "markdown",
   "id": "5c07bb03-1079-47a8-9e72-5a8d89fe9078",
   "metadata": {},
   "source": [
    "We can use the correlation matrix to see if there are variables that are correlated. If two variables have a high correlation, we can remove one of them to make the model simpler and less complex. \n",
    "* **low_midi** and **high_midi** seem to have a high correlation of 0.868 -> we can get rid of one of the two variables\n",
    "* the next strongest correlation is between **semitones** and **high_midi**, however because this correlation is only moderately strong, we will keep both of these variables. "
   ]
  },
  {
   "cell_type": "markdown",
   "id": "fd7513bc-e4ea-457a-89fb-09b62861ec98",
   "metadata": {},
   "source": [
    "# Modeling"
   ]
  },
  {
   "cell_type": "markdown",
   "id": "10df0f47-b0b9-409a-9028-91a514050ad6",
   "metadata": {},
   "source": [
    "We have (very) briefly looked at the variables, the dataset, and the relationship the variables have with each other! We will now build the model based on the insights we just got."
   ]
  },
  {
   "cell_type": "markdown",
   "id": "ed5d0573-b43a-45ab-8ce2-91328bcaf3c0",
   "metadata": {},
   "source": [
    "I chose to run a random forest algorithm on this dataset because the random forest algorithm tends to run decently well on smaller datasets (like this) and is very easy to understand. I also usually like to run a feature importance test on the dataset after (did not this time but usually yes)"
   ]
  },
  {
   "cell_type": "code",
   "execution_count": 202,
   "id": "bb70a6da-ce10-42c3-bcc3-8c7fbf3963ac",
   "metadata": {},
   "outputs": [
    {
     "name": "stdout",
     "output_type": "stream",
     "text": [
      "              precision    recall  f1-score   support\n",
      "\n",
      "        alto       1.00      0.83      0.91         6\n",
      "    baritone       0.67      1.00      0.80         2\n",
      "        bass       1.00      1.00      1.00         1\n",
      "     soprano       0.83      1.00      0.91         5\n",
      "       tenor       1.00      0.50      0.67         2\n",
      "\n",
      "    accuracy                           0.88        16\n",
      "   macro avg       0.90      0.87      0.86        16\n",
      "weighted avg       0.91      0.88      0.87        16\n",
      "\n"
     ]
    }
   ],
   "source": [
    "from sklearn.model_selection import train_test_split\n",
    "from sklearn.ensemble import RandomForestClassifier\n",
    "from sklearn.metrics import classification_report, confusion_matrix\n",
    "\n",
    "#features + classficiation variable\n",
    "X = df[['low_midi', 'high_midi', 'semitones', 'nasal_low', 'nasal_high', 'airy_low', 'airy_high']]\n",
    "y = df['voice']\n",
    "\n",
    "# train/test split 80/20 split\n",
    "X_train, X_test, y_train, y_test = train_test_split(X, y, test_size=0.2, random_state=42, stratify=y)\n",
    "\n",
    "#random forest\n",
    "#have to use the weighting to account for the fact that there is very few \"basses\" in the dataset !!!!!!!!!!!!!!!\n",
    "# need that statement for model to work !!!!!!!!!!!!!\n",
    "rf = RandomForestClassifier(class_weight=\"balanced\", random_state=42)\n",
    "rf.fit(X_train, y_train)\n",
    "\n",
    "#evaluate\n",
    "y_pred = rf.predict(X_test)\n",
    "print(classification_report(y_test, y_pred))\n"
   ]
  },
  {
   "cell_type": "markdown",
   "id": "8663b947-bd19-49e3-bc5c-c83e527f2880",
   "metadata": {},
   "source": [
    "* The model originally threw several errors because there was too heavy of a class imbalance in the dataset (not enough basses)\n",
    "* There are 2 ways to \"fix\" this issue:\n",
    "  * Oversampling the minority class to compensate for smaller amounts, while undersampling the majority classes (SMOTE) \n",
    "  * Adjusting the class weights to tell the model to pay attention to the smaller classes more -> this is done by changing the penalty score of misclassifying the \"minority\" classes comparated to the other classes, making the model more sensitive to the minority classes.\n",
    "* I chose to adjust the weights instead of using SMOTE because I did not want to create synthetic data points that may not generalize and not be representative of real singers; did not want fake data"
   ]
  },
  {
   "cell_type": "markdown",
   "id": "dca67e97-46ff-44f2-9a2d-3c23086b2ce2",
   "metadata": {},
   "source": [
    "# Results & Accuracy"
   ]
  },
  {
   "cell_type": "markdown",
   "id": "2c737c1b-ca2c-4422-88c3-796b92578820",
   "metadata": {},
   "source": [
    "As we can see in the classification matrix above, the accuracy was 88% which is decent!"
   ]
  },
  {
   "cell_type": "code",
   "execution_count": null,
   "id": "cd905760-770c-44d8-a12d-d0974a409516",
   "metadata": {},
   "outputs": [],
   "source": []
  }
 ],
 "metadata": {
  "kernelspec": {
   "display_name": "Python [conda env:base] *",
   "language": "python",
   "name": "conda-base-py"
  },
  "language_info": {
   "codemirror_mode": {
    "name": "ipython",
    "version": 3
   },
   "file_extension": ".py",
   "mimetype": "text/x-python",
   "name": "python",
   "nbconvert_exporter": "python",
   "pygments_lexer": "ipython3",
   "version": "3.12.3"
  }
 },
 "nbformat": 4,
 "nbformat_minor": 5
}
